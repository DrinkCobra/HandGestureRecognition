{
  "nbformat": 4,
  "nbformat_minor": 0,
  "metadata": {
    "colab": {
      "name": "Macatangay-Lugtu-Modelling.ipynb",
      "provenance": []
    },
    "kernelspec": {
      "name": "python3",
      "display_name": "Python 3"
    },
    "language_info": {
      "name": "python"
    }
  },
  "cells": [
    {
      "cell_type": "code",
      "source": [
        "#Rainier Jericho Lugtu\n",
        "#Aldrin Macatangay\n",
        "#CS - 302\n",
        "\n",
        "import cv2 # for computer vision\n",
        "import numpy as npy\n",
        "import mediapipe as mpipe # for recognizing hand keypoints\n",
        "import tensorflow as tf # use its pretrained model\n",
        "from tensorflow.keras.models import load_model"
      ],
      "metadata": {
        "colab": {
          "base_uri": "https://localhost:8080/",
          "height": 373
        },
        "id": "VzeoGA3yNADf",
        "outputId": "a0729827-0378-408f-9739-2f80d562f777"
      },
      "execution_count": 1,
      "outputs": [
        {
          "output_type": "error",
          "ename": "ModuleNotFoundError",
          "evalue": "ignored",
          "traceback": [
            "\u001b[0;31m---------------------------------------------------------------------------\u001b[0m",
            "\u001b[0;31mModuleNotFoundError\u001b[0m                       Traceback (most recent call last)",
            "\u001b[0;32m<ipython-input-1-3250fe570bdd>\u001b[0m in \u001b[0;36m<module>\u001b[0;34m()\u001b[0m\n\u001b[1;32m      5\u001b[0m \u001b[0;32mimport\u001b[0m \u001b[0mcv2\u001b[0m \u001b[0;31m# for computer vision\u001b[0m\u001b[0;34m\u001b[0m\u001b[0;34m\u001b[0m\u001b[0m\n\u001b[1;32m      6\u001b[0m \u001b[0;32mimport\u001b[0m \u001b[0mnumpy\u001b[0m \u001b[0;32mas\u001b[0m \u001b[0mnpy\u001b[0m\u001b[0;34m\u001b[0m\u001b[0;34m\u001b[0m\u001b[0m\n\u001b[0;32m----> 7\u001b[0;31m \u001b[0;32mimport\u001b[0m \u001b[0mmediapipe\u001b[0m \u001b[0;32mas\u001b[0m \u001b[0mmpipe\u001b[0m \u001b[0;31m# for recognizing hand keypoints\u001b[0m\u001b[0;34m\u001b[0m\u001b[0;34m\u001b[0m\u001b[0m\n\u001b[0m\u001b[1;32m      8\u001b[0m \u001b[0;32mimport\u001b[0m \u001b[0mtensorflow\u001b[0m \u001b[0;32mas\u001b[0m \u001b[0mtf\u001b[0m \u001b[0;31m# use its pretrained model\u001b[0m\u001b[0;34m\u001b[0m\u001b[0;34m\u001b[0m\u001b[0m\n\u001b[1;32m      9\u001b[0m \u001b[0;32mfrom\u001b[0m \u001b[0mtensorflow\u001b[0m\u001b[0;34m.\u001b[0m\u001b[0mkeras\u001b[0m\u001b[0;34m.\u001b[0m\u001b[0mmodels\u001b[0m \u001b[0;32mimport\u001b[0m \u001b[0mload_model\u001b[0m\u001b[0;34m\u001b[0m\u001b[0;34m\u001b[0m\u001b[0m\n",
            "\u001b[0;31mModuleNotFoundError\u001b[0m: No module named 'mediapipe'",
            "",
            "\u001b[0;31m---------------------------------------------------------------------------\u001b[0;32m\nNOTE: If your import is failing due to a missing package, you can\nmanually install dependencies using either !pip or !apt.\n\nTo view examples of installing some common dependencies, click the\n\"Open Examples\" button below.\n\u001b[0;31m---------------------------------------------------------------------------\u001b[0m\n"
          ],
          "errorDetails": {
            "actions": [
              {
                "action": "open_url",
                "actionText": "Open Examples",
                "url": "/notebooks/snippets/importing_libraries.ipynb"
              }
            ]
          }
        }
      ]
    },
    {
      "cell_type": "code",
      "execution_count": null,
      "metadata": {
        "id": "iWrA6CSCM4o5"
      },
      "outputs": [],
      "source": [
        "# initializing mediapipe\n",
        "mpipeHands = mpipe.solutions.hands # this performs the hand recognition\n",
        "hands = mpipeHands.Hands(max_num_hands=1, min_detection_confidence=0.7) # only one hand for each frame\n",
        "mpipeDraw = mpipe.solutions.drawing_utils # to automatically draw key points of the hand\n",
        "\n",
        "\n",
        "# to load the pretrained model from tensorflow\n",
        "model = load_model('mp_hand_gesture') # for pre-trained model\n",
        "# Loading the classnames\n",
        "# gestures are ['okay', 'peace', 'thumbs up', 'thumbs down', 'call me', 'stop', 'rock', 'live long', 'fist', 'smile']\n",
        "f = open('gesture.names', 'r') # first parameter is a file that has the 10 gesture classes' name\n",
        "classNames = f.read().split('\\n') # open the file\n",
        "f.close()\n",
        "print(classNames)\n",
        "\n",
        "\n",
        "\n",
        "# Initializing web camera\n",
        "capture = cv2.VideoCapture(0) # 0 is the ID of the webcam\n",
        "\n",
        "\n",
        "\n",
        "while True:\n",
        "    # Read each frame from the webcam\n",
        "    _, frame = capture.read() # reads web camera's frame\n",
        "    x, y, c = frame.shape\n",
        "\n",
        "    # Flip the frame vertically\n",
        "    frame = cv2.flip(frame, 1) # this mirrors the frame\n",
        "    frameToRGB = cv2.cvtColor(frame, cv2.COLOR_BGR2RGB) # convert the frames from BGR to RGB format\n",
        "\n",
        "    # Get hand landmark prediction\n",
        "    result = hands.process(frameToRGB) # returned class\n",
        "\n",
        "    # print(result)\n",
        "  \n",
        "    className = ''\n",
        "\n",
        "    # post process of output\n",
        "    if result.multi_hand_landmarks:\n",
        "        landmarks = []\n",
        "        for handslms in result.multi_hand_landmarks: # verify if there is a hand in the frame\n",
        "            for lm in handslms.landmark: # loop thru the detections and keep the coords on landmarks\n",
        "                # print(id, lm)\n",
        "                lmx = int(lm.x * x) \n",
        "                lmy = int(lm.y * y)\n",
        "                # product of height (y) and width (x) will be multiplied with the product. Value in the result will be 0 or 1\n",
        "                landmarks.append([lmx, lmy]) \n",
        "            mpipeDraw.draw_landmarks(frame, handslms, mpipeHands.HAND_CONNECTIONS,\n",
        "            mpipeDraw.DrawingSpec(color=(255,255,255), thickness=2, circle_radius=2),\n",
        "            mpipeDraw.DrawingSpec(color=(216,31,42), thickness=2, circle_radius=2)) # to draw landmarks on the frame\n",
        "\n",
        "            # Gesture prediction\n",
        "            prediction = model.predict([landmarks]) # Grabs a list of landmarks then it returns an array that has 10 classes for prediction /landmark\n",
        "            # print(prediction)\n",
        "            classID = npy.argmax(prediction) # this return the max val fromt the list\n",
        "            className = classNames[classID] # take classname after taking the index\n",
        "\n",
        "\n",
        "    # Display prediction\n",
        "    cv2.putText(frame, className, (25, 450),\n",
        "               cv2.FONT_HERSHEY_COMPLEX, 1, (0,176,24), 2, cv2.LINE_AA) # display detected gesture\n",
        "\n",
        "\n",
        "    # Display \n",
        "    cv2.imshow(\"Lugtu_Macatangay\", frame) \n",
        "\n",
        "\n",
        "    if cv2.waitKey(1) == ord('q') or cv2.waitKey(1) == ord('Q'):\n",
        "        break\n",
        "\n",
        "\n",
        "# Quit\n",
        "capture.release()\n",
        "cv2.destroyAllWindows()"
      ]
    }
  ]
}